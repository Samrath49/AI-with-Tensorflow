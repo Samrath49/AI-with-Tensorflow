{
  "nbformat": 4,
  "nbformat_minor": 0,
  "metadata": {
    "colab": {
      "name": "20. UCB.ipynb",
      "provenance": [],
      "authorship_tag": "ABX9TyM1Bvy3yKYimiEj1N5cTnhu",
      "include_colab_link": true
    },
    "kernelspec": {
      "name": "python3",
      "display_name": "Python 3"
    }
  },
  "cells": [
    {
      "cell_type": "markdown",
      "metadata": {
        "id": "view-in-github",
        "colab_type": "text"
      },
      "source": [
        "<a href=\"https://colab.research.google.com/github/Samrath49/AI-with-Tensorflow/blob/master/20.%20UCB.ipynb\" target=\"_parent\"><img src=\"https://colab.research.google.com/assets/colab-badge.svg\" alt=\"Open In Colab\"/></a>"
      ]
    },
    {
      "cell_type": "markdown",
      "metadata": {
        "id": "FFnFy_iDahnZ"
      },
      "source": [
        "\r\n",
        "# Upper Confidence Bound\r\n",
        "\r\n",
        "Reinforcement Learning Type\r\n",
        "\r\n"
      ]
    },
    {
      "cell_type": "markdown",
      "metadata": {
        "id": "lVyMzP0VamG2"
      },
      "source": [
        "### Importing Libraries"
      ]
    },
    {
      "cell_type": "code",
      "metadata": {
        "id": "_I8ufnSAad29"
      },
      "source": [
        "import pandas as pd\r\n",
        "import numpy as np\r\n",
        "import matplotlib.pyplot as plt"
      ],
      "execution_count": 1,
      "outputs": []
    },
    {
      "cell_type": "markdown",
      "metadata": {
        "id": "V32PifyfapA9"
      },
      "source": [
        "### Importing Dataset"
      ]
    },
    {
      "cell_type": "code",
      "metadata": {
        "id": "8pmRxJr_avCy"
      },
      "source": [
        "dataset = pd.read_csv('Ads_CTR_Optimisation.csv')"
      ],
      "execution_count": 2,
      "outputs": []
    },
    {
      "cell_type": "markdown",
      "metadata": {
        "id": "1Z6G8Qb-axgs"
      },
      "source": [
        "### Implementing UCB"
      ]
    },
    {
      "cell_type": "code",
      "metadata": {
        "id": "O9VyACKfavH_"
      },
      "source": [
        "import math\r\n",
        "N = 1000\r\n",
        "d = 10\r\n",
        "ads_selected = []\r\n",
        "numbers_of_selections = [0] * d\r\n",
        "sums_of_rewards = [0] * d\r\n",
        "total_reward = 0\r\n",
        "for n in range(0, N):\r\n",
        "  ad = 0\r\n",
        "  max_upper_bound = 0\r\n",
        "  for i in range(0, d):\r\n",
        "    if(numbers_of_selections[i] > 0):\r\n",
        "      average_reward = sums_of_rewards[i] / numbers_of_selections[i]\r\n",
        "      delta_i = math.sqrt(3/2 * math.log(n + 1) / numbers_of_selections[i])\r\n",
        "      upper_bound = average_reward + delta_i\r\n",
        "    else:\r\n",
        "      upper_bound = 1e400\r\n",
        "    if (upper_bound > max_upper_bound):\r\n",
        "      max_upper_bound = upper_bound\r\n",
        "      ad = i\r\n",
        "  ads_selected.append(ad)\r\n",
        "  numbers_of_selections[ad] += 1\r\n",
        "  reward = dataset.values[n, ad]\r\n",
        "  sums_of_rewards[ad] = sums_of_rewards[ad] + reward\r\n",
        "  total_reward = total_reward + reward"
      ],
      "execution_count": 17,
      "outputs": []
    },
    {
      "cell_type": "markdown",
      "metadata": {
        "id": "cGZLjRqjax46"
      },
      "source": [
        "### Visualising the resuts"
      ]
    },
    {
      "cell_type": "code",
      "metadata": {
        "colab": {
          "base_uri": "https://localhost:8080/",
          "height": 294
        },
        "id": "IOUQz786avS9",
        "outputId": "20ec07a7-b08f-4f31-8294-928784c29884"
      },
      "source": [
        "plt.hist(ads_selected)\r\n",
        "plt.title('Histogram of ads selections')\r\n",
        "plt.xlabel('Ads')\r\n",
        "plt.ylabel('Numbers of times each ad was selected')\r\n",
        "plt.show()"
      ],
      "execution_count": 18,
      "outputs": [
        {
          "output_type": "display_data",
          "data": {
            "image/png": "[encoded data removed]",
            "text/plain": [
              "<Figure size 432x288 with 1 Axes>"
            ]
          },
          "metadata": {
            "tags": [],
            "needs_background": "light"
          }
        }
      ]
    },
    {
      "cell_type": "markdown",
      "metadata": {
        "id": "fOuGSOU7avZR"
      },
      "source": [
        "### Results: UCB is able to find most effective ad ie. Ad 4 in 1000 iterations."
      ]
    }
  ]
}