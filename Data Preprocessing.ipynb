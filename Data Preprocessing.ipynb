{
  "nbformat": 4,
  "nbformat_minor": 0,
  "metadata": {
    "colab": {
      "name": "Untitled4.ipynb",
      "provenance": [],
      "authorship_tag": "ABX9TyMyPVwFAp9H7NAC9js2ScdF",
      "include_colab_link": true
    },
    "kernelspec": {
      "name": "python3",
      "display_name": "Python 3"
    }
  },
  "cells": [
    {
      "cell_type": "markdown",
      "metadata": {
        "id": "view-in-github",
        "colab_type": "text"
      },
      "source": [
        "<a href=\"https://colab.research.google.com/github/Samrath49/AI-with-Tensorflow/blob/master/Data%20Preprocessing.ipynb\" target=\"_parent\"><img src=\"https://colab.research.google.com/assets/colab-badge.svg\" alt=\"Open In Colab\"/></a>"
      ]
    },
    {
      "cell_type": "code",
      "metadata": {
        "id": "1z36E54-aDRT",
        "colab_type": "code",
        "colab": {}
      },
      "source": [
        "import pandas as pd #used to convert unstructured data into tabuler form structured data\n",
        "import numpy as np # it means numbers in python for numbers\n",
        "import seaborn as sns # seaboen includes extra graphical functions that r not there in matplot lib\n",
        "import matplotlib.pyplot as mp # mathematical ploting using graphs ets"
      ],
      "execution_count": 96,
      "outputs": []
    },
    {
      "cell_type": "code",
      "metadata": {
        "id": "bW0fUheeohIM",
        "colab_type": "code",
        "colab": {}
      },
      "source": [
        "data = {'Sno': [1,2,3,4,5,6,7,8,9,10],\n",
        "        'Horse_Id': ['H01','H02','H03','H04','H05','H06','H07','H08','H09','H10'],\n",
        "        'Horse_Gender': ['M','F','F','F','M','M','F','F','M','F'],\n",
        "        'Horse_Height(cm)':[188,190,178,150,np.NaN,198,200,179,np.NaN,180],\n",
        "        'Horse_Weight(kg)':[410,550,600,710,590,630,np.NaN,740,650,720],\n",
        "        'Racer_Horse':['yes','no','yes','no','yes','no','yes','no','yes','no']}"
      ],
      "execution_count": 170,
      "outputs": []
    },
    {
      "cell_type": "code",
      "metadata": {
        "id": "q0W2qp5DpkAW",
        "colab_type": "code",
        "colab": {}
      },
      "source": [
        "df = pd.DataFrame(data,columns=['Sno','Horse_Id', 'Horse_Gender', 'Horse_Height(cm)','Horse_Weight(kg)','Racer_Horse'])"
      ],
      "execution_count": 171,
      "outputs": []
    },
    {
      "cell_type": "code",
      "metadata": {
        "id": "NcNJymrmqBzh",
        "colab_type": "code",
        "colab": {
          "base_uri": "https://localhost:8080/",
          "height": 359
        },
        "outputId": "541ef44d-3daf-423c-987e-1d7ff8304aee"
      },
      "source": [
        "df # data in tabular form as sorted data is called dataframe\n"
      ],
      "execution_count": 172,
      "outputs": [
        {
          "output_type": "execute_result",
          "data": {
            "text/html": [
              "<div>\n",
              "<style scoped>\n",
              "    .dataframe tbody tr th:only-of-type {\n",
              "        vertical-align: middle;\n",
              "    }\n",
              "\n",
              "    .dataframe tbody tr th {\n",
              "        vertical-align: top;\n",
              "    }\n",
              "\n",
              "    .dataframe thead th {\n",
              "        text-align: right;\n",
              "    }\n",
              "</style>\n",
              "<table border=\"1\" class=\"dataframe\">\n",
              "  <thead>\n",
              "    <tr style=\"text-align: right;\">\n",
              "      <th></th>\n",
              "      <th>Sno</th>\n",
              "      <th>Horse_Id</th>\n",
              "      <th>Horse_Gender</th>\n",
              "      <th>Horse_Height(cm)</th>\n",
              "      <th>Horse_Weight(kg)</th>\n",
              "      <th>Racer_Horse</th>\n",
              "    </tr>\n",
              "  </thead>\n",
              "  <tbody>\n",
              "    <tr>\n",
              "      <th>0</th>\n",
              "      <td>1</td>\n",
              "      <td>H01</td>\n",
              "      <td>M</td>\n",
              "      <td>188.0</td>\n",
              "      <td>410.0</td>\n",
              "      <td>yes</td>\n",
              "    </tr>\n",
              "    <tr>\n",
              "      <th>1</th>\n",
              "      <td>2</td>\n",
              "      <td>H02</td>\n",
              "      <td>F</td>\n",
              "      <td>190.0</td>\n",
              "      <td>550.0</td>\n",
              "      <td>no</td>\n",
              "    </tr>\n",
              "    <tr>\n",
              "      <th>2</th>\n",
              "      <td>3</td>\n",
              "      <td>H03</td>\n",
              "      <td>F</td>\n",
              "      <td>178.0</td>\n",
              "      <td>600.0</td>\n",
              "      <td>yes</td>\n",
              "    </tr>\n",
              "    <tr>\n",
              "      <th>3</th>\n",
              "      <td>4</td>\n",
              "      <td>H04</td>\n",
              "      <td>F</td>\n",
              "      <td>150.0</td>\n",
              "      <td>710.0</td>\n",
              "      <td>no</td>\n",
              "    </tr>\n",
              "    <tr>\n",
              "      <th>4</th>\n",
              "      <td>5</td>\n",
              "      <td>H05</td>\n",
              "      <td>M</td>\n",
              "      <td>NaN</td>\n",
              "      <td>590.0</td>\n",
              "      <td>yes</td>\n",
              "    </tr>\n",
              "    <tr>\n",
              "      <th>5</th>\n",
              "      <td>6</td>\n",
              "      <td>H06</td>\n",
              "      <td>M</td>\n",
              "      <td>198.0</td>\n",
              "      <td>630.0</td>\n",
              "      <td>no</td>\n",
              "    </tr>\n",
              "    <tr>\n",
              "      <th>6</th>\n",
              "      <td>7</td>\n",
              "      <td>H07</td>\n",
              "      <td>F</td>\n",
              "      <td>200.0</td>\n",
              "      <td>NaN</td>\n",
              "      <td>yes</td>\n",
              "    </tr>\n",
              "    <tr>\n",
              "      <th>7</th>\n",
              "      <td>8</td>\n",
              "      <td>H08</td>\n",
              "      <td>F</td>\n",
              "      <td>179.0</td>\n",
              "      <td>740.0</td>\n",
              "      <td>no</td>\n",
              "    </tr>\n",
              "    <tr>\n",
              "      <th>8</th>\n",
              "      <td>9</td>\n",
              "      <td>H09</td>\n",
              "      <td>M</td>\n",
              "      <td>NaN</td>\n",
              "      <td>650.0</td>\n",
              "      <td>yes</td>\n",
              "    </tr>\n",
              "    <tr>\n",
              "      <th>9</th>\n",
              "      <td>10</td>\n",
              "      <td>H10</td>\n",
              "      <td>F</td>\n",
              "      <td>180.0</td>\n",
              "      <td>720.0</td>\n",
              "      <td>no</td>\n",
              "    </tr>\n",
              "  </tbody>\n",
              "</table>\n",
              "</div>"
            ],
            "text/plain": [
              "   Sno Horse_Id Horse_Gender  Horse_Height(cm)  Horse_Weight(kg) Racer_Horse\n",
              "0    1      H01            M             188.0             410.0         yes\n",
              "1    2      H02            F             190.0             550.0          no\n",
              "2    3      H03            F             178.0             600.0         yes\n",
              "3    4      H04            F             150.0             710.0          no\n",
              "4    5      H05            M               NaN             590.0         yes\n",
              "5    6      H06            M             198.0             630.0          no\n",
              "6    7      H07            F             200.0               NaN         yes\n",
              "7    8      H08            F             179.0             740.0          no\n",
              "8    9      H09            M               NaN             650.0         yes\n",
              "9   10      H10            F             180.0             720.0          no"
            ]
          },
          "metadata": {
            "tags": []
          },
          "execution_count": 172
        }
      ]
    },
    {
      "cell_type": "code",
      "metadata": {
        "id": "88Cs_ogSO7WX",
        "colab_type": "code",
        "colab": {
          "base_uri": "https://localhost:8080/",
          "height": 266
        },
        "outputId": "d1a9abce-31c2-446e-d6e8-21e664f0eca9"
      },
      "source": [
        "info = df.dropna()\n",
        "info"
      ],
      "execution_count": 173,
      "outputs": [
        {
          "output_type": "execute_result",
          "data": {
            "text/html": [
              "<div>\n",
              "<style scoped>\n",
              "    .dataframe tbody tr th:only-of-type {\n",
              "        vertical-align: middle;\n",
              "    }\n",
              "\n",
              "    .dataframe tbody tr th {\n",
              "        vertical-align: top;\n",
              "    }\n",
              "\n",
              "    .dataframe thead th {\n",
              "        text-align: right;\n",
              "    }\n",
              "</style>\n",
              "<table border=\"1\" class=\"dataframe\">\n",
              "  <thead>\n",
              "    <tr style=\"text-align: right;\">\n",
              "      <th></th>\n",
              "      <th>Sno</th>\n",
              "      <th>Horse_Id</th>\n",
              "      <th>Horse_Gender</th>\n",
              "      <th>Horse_Height(cm)</th>\n",
              "      <th>Horse_Weight(kg)</th>\n",
              "      <th>Racer_Horse</th>\n",
              "    </tr>\n",
              "  </thead>\n",
              "  <tbody>\n",
              "    <tr>\n",
              "      <th>0</th>\n",
              "      <td>1</td>\n",
              "      <td>H01</td>\n",
              "      <td>M</td>\n",
              "      <td>188.0</td>\n",
              "      <td>410.0</td>\n",
              "      <td>yes</td>\n",
              "    </tr>\n",
              "    <tr>\n",
              "      <th>1</th>\n",
              "      <td>2</td>\n",
              "      <td>H02</td>\n",
              "      <td>F</td>\n",
              "      <td>190.0</td>\n",
              "      <td>550.0</td>\n",
              "      <td>no</td>\n",
              "    </tr>\n",
              "    <tr>\n",
              "      <th>2</th>\n",
              "      <td>3</td>\n",
              "      <td>H03</td>\n",
              "      <td>F</td>\n",
              "      <td>178.0</td>\n",
              "      <td>600.0</td>\n",
              "      <td>yes</td>\n",
              "    </tr>\n",
              "    <tr>\n",
              "      <th>3</th>\n",
              "      <td>4</td>\n",
              "      <td>H04</td>\n",
              "      <td>F</td>\n",
              "      <td>150.0</td>\n",
              "      <td>710.0</td>\n",
              "      <td>no</td>\n",
              "    </tr>\n",
              "    <tr>\n",
              "      <th>5</th>\n",
              "      <td>6</td>\n",
              "      <td>H06</td>\n",
              "      <td>M</td>\n",
              "      <td>198.0</td>\n",
              "      <td>630.0</td>\n",
              "      <td>no</td>\n",
              "    </tr>\n",
              "    <tr>\n",
              "      <th>7</th>\n",
              "      <td>8</td>\n",
              "      <td>H08</td>\n",
              "      <td>F</td>\n",
              "      <td>179.0</td>\n",
              "      <td>740.0</td>\n",
              "      <td>no</td>\n",
              "    </tr>\n",
              "    <tr>\n",
              "      <th>9</th>\n",
              "      <td>10</td>\n",
              "      <td>H10</td>\n",
              "      <td>F</td>\n",
              "      <td>180.0</td>\n",
              "      <td>720.0</td>\n",
              "      <td>no</td>\n",
              "    </tr>\n",
              "  </tbody>\n",
              "</table>\n",
              "</div>"
            ],
            "text/plain": [
              "   Sno Horse_Id Horse_Gender  Horse_Height(cm)  Horse_Weight(kg) Racer_Horse\n",
              "0    1      H01            M             188.0             410.0         yes\n",
              "1    2      H02            F             190.0             550.0          no\n",
              "2    3      H03            F             178.0             600.0         yes\n",
              "3    4      H04            F             150.0             710.0          no\n",
              "5    6      H06            M             198.0             630.0          no\n",
              "7    8      H08            F             179.0             740.0          no\n",
              "9   10      H10            F             180.0             720.0          no"
            ]
          },
          "metadata": {
            "tags": []
          },
          "execution_count": 173
        }
      ]
    },
    {
      "cell_type": "code",
      "metadata": {
        "id": "5Ddzzd8FqLmv",
        "colab_type": "code",
        "colab": {
          "base_uri": "https://localhost:8080/",
          "height": 111
        },
        "outputId": "d37557ba-84a0-4514-fccb-1860d3c05ce6"
      },
      "source": [
        "df.head(2)"
      ],
      "execution_count": 174,
      "outputs": [
        {
          "output_type": "execute_result",
          "data": {
            "text/html": [
              "<div>\n",
              "<style scoped>\n",
              "    .dataframe tbody tr th:only-of-type {\n",
              "        vertical-align: middle;\n",
              "    }\n",
              "\n",
              "    .dataframe tbody tr th {\n",
              "        vertical-align: top;\n",
              "    }\n",
              "\n",
              "    .dataframe thead th {\n",
              "        text-align: right;\n",
              "    }\n",
              "</style>\n",
              "<table border=\"1\" class=\"dataframe\">\n",
              "  <thead>\n",
              "    <tr style=\"text-align: right;\">\n",
              "      <th></th>\n",
              "      <th>Sno</th>\n",
              "      <th>Horse_Id</th>\n",
              "      <th>Horse_Gender</th>\n",
              "      <th>Horse_Height(cm)</th>\n",
              "      <th>Horse_Weight(kg)</th>\n",
              "      <th>Racer_Horse</th>\n",
              "    </tr>\n",
              "  </thead>\n",
              "  <tbody>\n",
              "    <tr>\n",
              "      <th>0</th>\n",
              "      <td>1</td>\n",
              "      <td>H01</td>\n",
              "      <td>M</td>\n",
              "      <td>188.0</td>\n",
              "      <td>410.0</td>\n",
              "      <td>yes</td>\n",
              "    </tr>\n",
              "    <tr>\n",
              "      <th>1</th>\n",
              "      <td>2</td>\n",
              "      <td>H02</td>\n",
              "      <td>F</td>\n",
              "      <td>190.0</td>\n",
              "      <td>550.0</td>\n",
              "      <td>no</td>\n",
              "    </tr>\n",
              "  </tbody>\n",
              "</table>\n",
              "</div>"
            ],
            "text/plain": [
              "   Sno Horse_Id Horse_Gender  Horse_Height(cm)  Horse_Weight(kg) Racer_Horse\n",
              "0    1      H01            M             188.0             410.0         yes\n",
              "1    2      H02            F             190.0             550.0          no"
            ]
          },
          "metadata": {
            "tags": []
          },
          "execution_count": 174
        }
      ]
    },
    {
      "cell_type": "code",
      "metadata": {
        "id": "LQVu95L2qddE",
        "colab_type": "code",
        "colab": {
          "base_uri": "https://localhost:8080/",
          "height": 111
        },
        "outputId": "b6433384-2469-4d62-9e4b-26a4aa94372f"
      },
      "source": [
        "df.tail(2)"
      ],
      "execution_count": 175,
      "outputs": [
        {
          "output_type": "execute_result",
          "data": {
            "text/html": [
              "<div>\n",
              "<style scoped>\n",
              "    .dataframe tbody tr th:only-of-type {\n",
              "        vertical-align: middle;\n",
              "    }\n",
              "\n",
              "    .dataframe tbody tr th {\n",
              "        vertical-align: top;\n",
              "    }\n",
              "\n",
              "    .dataframe thead th {\n",
              "        text-align: right;\n",
              "    }\n",
              "</style>\n",
              "<table border=\"1\" class=\"dataframe\">\n",
              "  <thead>\n",
              "    <tr style=\"text-align: right;\">\n",
              "      <th></th>\n",
              "      <th>Sno</th>\n",
              "      <th>Horse_Id</th>\n",
              "      <th>Horse_Gender</th>\n",
              "      <th>Horse_Height(cm)</th>\n",
              "      <th>Horse_Weight(kg)</th>\n",
              "      <th>Racer_Horse</th>\n",
              "    </tr>\n",
              "  </thead>\n",
              "  <tbody>\n",
              "    <tr>\n",
              "      <th>8</th>\n",
              "      <td>9</td>\n",
              "      <td>H09</td>\n",
              "      <td>M</td>\n",
              "      <td>NaN</td>\n",
              "      <td>650.0</td>\n",
              "      <td>yes</td>\n",
              "    </tr>\n",
              "    <tr>\n",
              "      <th>9</th>\n",
              "      <td>10</td>\n",
              "      <td>H10</td>\n",
              "      <td>F</td>\n",
              "      <td>180.0</td>\n",
              "      <td>720.0</td>\n",
              "      <td>no</td>\n",
              "    </tr>\n",
              "  </tbody>\n",
              "</table>\n",
              "</div>"
            ],
            "text/plain": [
              "   Sno Horse_Id Horse_Gender  Horse_Height(cm)  Horse_Weight(kg) Racer_Horse\n",
              "8    9      H09            M               NaN             650.0         yes\n",
              "9   10      H10            F             180.0             720.0          no"
            ]
          },
          "metadata": {
            "tags": []
          },
          "execution_count": 175
        }
      ]
    },
    {
      "cell_type": "code",
      "metadata": {
        "id": "5gpG4xr5qfjS",
        "colab_type": "code",
        "colab": {
          "base_uri": "https://localhost:8080/",
          "height": 238
        },
        "outputId": "db1a5072-69bb-4125-e1b9-415d9604c9e8"
      },
      "source": [
        "df.info()"
      ],
      "execution_count": 176,
      "outputs": [
        {
          "output_type": "stream",
          "text": [
            "<class 'pandas.core.frame.DataFrame'>\n",
            "RangeIndex: 10 entries, 0 to 9\n",
            "Data columns (total 6 columns):\n",
            " #   Column            Non-Null Count  Dtype  \n",
            "---  ------            --------------  -----  \n",
            " 0   Sno               10 non-null     int64  \n",
            " 1   Horse_Id          10 non-null     object \n",
            " 2   Horse_Gender      10 non-null     object \n",
            " 3   Horse_Height(cm)  8 non-null      float64\n",
            " 4   Horse_Weight(kg)  9 non-null      float64\n",
            " 5   Racer_Horse       10 non-null     object \n",
            "dtypes: float64(2), int64(1), object(3)\n",
            "memory usage: 608.0+ bytes\n"
          ],
          "name": "stdout"
        }
      ]
    },
    {
      "cell_type": "code",
      "metadata": {
        "id": "g4bMqkQuqk8B",
        "colab_type": "code",
        "colab": {}
      },
      "source": [
        "df.loc[(df['Horse_Height(cm)'].isnull()),'Horse_Height(cm)'] = df['Horse_Height(cm)'].mean()"
      ],
      "execution_count": 177,
      "outputs": []
    },
    {
      "cell_type": "code",
      "metadata": {
        "id": "cnYst780Mz_B",
        "colab_type": "code",
        "colab": {}
      },
      "source": [
        "df.loc[(df['Horse_Gender']=='F')&(df['Horse_Weight(kg)'].isnull()),'Horse_Weight(kg)'] = 550"
      ],
      "execution_count": 178,
      "outputs": []
    },
    {
      "cell_type": "code",
      "metadata": {
        "id": "FsG4vvR3NJVq",
        "colab_type": "code",
        "colab": {
          "base_uri": "https://localhost:8080/",
          "height": 359
        },
        "outputId": "fd1eb58b-f424-48c6-f332-a0285c68aeb8"
      },
      "source": [
        "df"
      ],
      "execution_count": 179,
      "outputs": [
        {
          "output_type": "execute_result",
          "data": {
            "text/html": [
              "<div>\n",
              "<style scoped>\n",
              "    .dataframe tbody tr th:only-of-type {\n",
              "        vertical-align: middle;\n",
              "    }\n",
              "\n",
              "    .dataframe tbody tr th {\n",
              "        vertical-align: top;\n",
              "    }\n",
              "\n",
              "    .dataframe thead th {\n",
              "        text-align: right;\n",
              "    }\n",
              "</style>\n",
              "<table border=\"1\" class=\"dataframe\">\n",
              "  <thead>\n",
              "    <tr style=\"text-align: right;\">\n",
              "      <th></th>\n",
              "      <th>Sno</th>\n",
              "      <th>Horse_Id</th>\n",
              "      <th>Horse_Gender</th>\n",
              "      <th>Horse_Height(cm)</th>\n",
              "      <th>Horse_Weight(kg)</th>\n",
              "      <th>Racer_Horse</th>\n",
              "    </tr>\n",
              "  </thead>\n",
              "  <tbody>\n",
              "    <tr>\n",
              "      <th>0</th>\n",
              "      <td>1</td>\n",
              "      <td>H01</td>\n",
              "      <td>M</td>\n",
              "      <td>188.000</td>\n",
              "      <td>410.0</td>\n",
              "      <td>yes</td>\n",
              "    </tr>\n",
              "    <tr>\n",
              "      <th>1</th>\n",
              "      <td>2</td>\n",
              "      <td>H02</td>\n",
              "      <td>F</td>\n",
              "      <td>190.000</td>\n",
              "      <td>550.0</td>\n",
              "      <td>no</td>\n",
              "    </tr>\n",
              "    <tr>\n",
              "      <th>2</th>\n",
              "      <td>3</td>\n",
              "      <td>H03</td>\n",
              "      <td>F</td>\n",
              "      <td>178.000</td>\n",
              "      <td>600.0</td>\n",
              "      <td>yes</td>\n",
              "    </tr>\n",
              "    <tr>\n",
              "      <th>3</th>\n",
              "      <td>4</td>\n",
              "      <td>H04</td>\n",
              "      <td>F</td>\n",
              "      <td>150.000</td>\n",
              "      <td>710.0</td>\n",
              "      <td>no</td>\n",
              "    </tr>\n",
              "    <tr>\n",
              "      <th>4</th>\n",
              "      <td>5</td>\n",
              "      <td>H05</td>\n",
              "      <td>M</td>\n",
              "      <td>182.875</td>\n",
              "      <td>590.0</td>\n",
              "      <td>yes</td>\n",
              "    </tr>\n",
              "    <tr>\n",
              "      <th>5</th>\n",
              "      <td>6</td>\n",
              "      <td>H06</td>\n",
              "      <td>M</td>\n",
              "      <td>198.000</td>\n",
              "      <td>630.0</td>\n",
              "      <td>no</td>\n",
              "    </tr>\n",
              "    <tr>\n",
              "      <th>6</th>\n",
              "      <td>7</td>\n",
              "      <td>H07</td>\n",
              "      <td>F</td>\n",
              "      <td>200.000</td>\n",
              "      <td>550.0</td>\n",
              "      <td>yes</td>\n",
              "    </tr>\n",
              "    <tr>\n",
              "      <th>7</th>\n",
              "      <td>8</td>\n",
              "      <td>H08</td>\n",
              "      <td>F</td>\n",
              "      <td>179.000</td>\n",
              "      <td>740.0</td>\n",
              "      <td>no</td>\n",
              "    </tr>\n",
              "    <tr>\n",
              "      <th>8</th>\n",
              "      <td>9</td>\n",
              "      <td>H09</td>\n",
              "      <td>M</td>\n",
              "      <td>182.875</td>\n",
              "      <td>650.0</td>\n",
              "      <td>yes</td>\n",
              "    </tr>\n",
              "    <tr>\n",
              "      <th>9</th>\n",
              "      <td>10</td>\n",
              "      <td>H10</td>\n",
              "      <td>F</td>\n",
              "      <td>180.000</td>\n",
              "      <td>720.0</td>\n",
              "      <td>no</td>\n",
              "    </tr>\n",
              "  </tbody>\n",
              "</table>\n",
              "</div>"
            ],
            "text/plain": [
              "   Sno Horse_Id Horse_Gender  Horse_Height(cm)  Horse_Weight(kg) Racer_Horse\n",
              "0    1      H01            M           188.000             410.0         yes\n",
              "1    2      H02            F           190.000             550.0          no\n",
              "2    3      H03            F           178.000             600.0         yes\n",
              "3    4      H04            F           150.000             710.0          no\n",
              "4    5      H05            M           182.875             590.0         yes\n",
              "5    6      H06            M           198.000             630.0          no\n",
              "6    7      H07            F           200.000             550.0         yes\n",
              "7    8      H08            F           179.000             740.0          no\n",
              "8    9      H09            M           182.875             650.0         yes\n",
              "9   10      H10            F           180.000             720.0          no"
            ]
          },
          "metadata": {
            "tags": []
          },
          "execution_count": 179
        }
      ]
    },
    {
      "cell_type": "code",
      "metadata": {
        "id": "Em9uSPh7vR7P",
        "colab_type": "code",
        "colab": {
          "base_uri": "https://localhost:8080/",
          "height": 204
        },
        "outputId": "24cee2a9-b700-45fd-87cd-280883415049"
      },
      "source": [
        "target = df['Racer_Horse']\n",
        "target"
      ],
      "execution_count": 180,
      "outputs": [
        {
          "output_type": "execute_result",
          "data": {
            "text/plain": [
              "0    yes\n",
              "1     no\n",
              "2    yes\n",
              "3     no\n",
              "4    yes\n",
              "5     no\n",
              "6    yes\n",
              "7     no\n",
              "8    yes\n",
              "9     no\n",
              "Name: Racer_Horse, dtype: object"
            ]
          },
          "metadata": {
            "tags": []
          },
          "execution_count": 180
        }
      ]
    },
    {
      "cell_type": "code",
      "metadata": {
        "id": "N4F95puPQbOe",
        "colab_type": "code",
        "colab": {}
      },
      "source": [
        "df=df.drop(['Horse_Id'],axis=1)"
      ],
      "execution_count": 181,
      "outputs": []
    },
    {
      "cell_type": "code",
      "metadata": {
        "id": "pZzsf6dxRyG_",
        "colab_type": "code",
        "colab": {
          "base_uri": "https://localhost:8080/",
          "height": 359
        },
        "outputId": "3b9e251a-19b6-4294-8c4d-6261d8ef1c3f"
      },
      "source": [
        "df"
      ],
      "execution_count": 182,
      "outputs": [
        {
          "output_type": "execute_result",
          "data": {
            "text/html": [
              "<div>\n",
              "<style scoped>\n",
              "    .dataframe tbody tr th:only-of-type {\n",
              "        vertical-align: middle;\n",
              "    }\n",
              "\n",
              "    .dataframe tbody tr th {\n",
              "        vertical-align: top;\n",
              "    }\n",
              "\n",
              "    .dataframe thead th {\n",
              "        text-align: right;\n",
              "    }\n",
              "</style>\n",
              "<table border=\"1\" class=\"dataframe\">\n",
              "  <thead>\n",
              "    <tr style=\"text-align: right;\">\n",
              "      <th></th>\n",
              "      <th>Sno</th>\n",
              "      <th>Horse_Gender</th>\n",
              "      <th>Horse_Height(cm)</th>\n",
              "      <th>Horse_Weight(kg)</th>\n",
              "      <th>Racer_Horse</th>\n",
              "    </tr>\n",
              "  </thead>\n",
              "  <tbody>\n",
              "    <tr>\n",
              "      <th>0</th>\n",
              "      <td>1</td>\n",
              "      <td>M</td>\n",
              "      <td>188.000</td>\n",
              "      <td>410.0</td>\n",
              "      <td>yes</td>\n",
              "    </tr>\n",
              "    <tr>\n",
              "      <th>1</th>\n",
              "      <td>2</td>\n",
              "      <td>F</td>\n",
              "      <td>190.000</td>\n",
              "      <td>550.0</td>\n",
              "      <td>no</td>\n",
              "    </tr>\n",
              "    <tr>\n",
              "      <th>2</th>\n",
              "      <td>3</td>\n",
              "      <td>F</td>\n",
              "      <td>178.000</td>\n",
              "      <td>600.0</td>\n",
              "      <td>yes</td>\n",
              "    </tr>\n",
              "    <tr>\n",
              "      <th>3</th>\n",
              "      <td>4</td>\n",
              "      <td>F</td>\n",
              "      <td>150.000</td>\n",
              "      <td>710.0</td>\n",
              "      <td>no</td>\n",
              "    </tr>\n",
              "    <tr>\n",
              "      <th>4</th>\n",
              "      <td>5</td>\n",
              "      <td>M</td>\n",
              "      <td>182.875</td>\n",
              "      <td>590.0</td>\n",
              "      <td>yes</td>\n",
              "    </tr>\n",
              "    <tr>\n",
              "      <th>5</th>\n",
              "      <td>6</td>\n",
              "      <td>M</td>\n",
              "      <td>198.000</td>\n",
              "      <td>630.0</td>\n",
              "      <td>no</td>\n",
              "    </tr>\n",
              "    <tr>\n",
              "      <th>6</th>\n",
              "      <td>7</td>\n",
              "      <td>F</td>\n",
              "      <td>200.000</td>\n",
              "      <td>550.0</td>\n",
              "      <td>yes</td>\n",
              "    </tr>\n",
              "    <tr>\n",
              "      <th>7</th>\n",
              "      <td>8</td>\n",
              "      <td>F</td>\n",
              "      <td>179.000</td>\n",
              "      <td>740.0</td>\n",
              "      <td>no</td>\n",
              "    </tr>\n",
              "    <tr>\n",
              "      <th>8</th>\n",
              "      <td>9</td>\n",
              "      <td>M</td>\n",
              "      <td>182.875</td>\n",
              "      <td>650.0</td>\n",
              "      <td>yes</td>\n",
              "    </tr>\n",
              "    <tr>\n",
              "      <th>9</th>\n",
              "      <td>10</td>\n",
              "      <td>F</td>\n",
              "      <td>180.000</td>\n",
              "      <td>720.0</td>\n",
              "      <td>no</td>\n",
              "    </tr>\n",
              "  </tbody>\n",
              "</table>\n",
              "</div>"
            ],
            "text/plain": [
              "   Sno Horse_Gender  Horse_Height(cm)  Horse_Weight(kg) Racer_Horse\n",
              "0    1            M           188.000             410.0         yes\n",
              "1    2            F           190.000             550.0          no\n",
              "2    3            F           178.000             600.0         yes\n",
              "3    4            F           150.000             710.0          no\n",
              "4    5            M           182.875             590.0         yes\n",
              "5    6            M           198.000             630.0          no\n",
              "6    7            F           200.000             550.0         yes\n",
              "7    8            F           179.000             740.0          no\n",
              "8    9            M           182.875             650.0         yes\n",
              "9   10            F           180.000             720.0          no"
            ]
          },
          "metadata": {
            "tags": []
          },
          "execution_count": 182
        }
      ]
    },
    {
      "cell_type": "code",
      "metadata": {
        "id": "tDSnYWRpxXqI",
        "colab_type": "code",
        "colab": {
          "base_uri": "https://localhost:8080/",
          "height": 366
        },
        "outputId": "16207384-9041-4e3d-c5cd-7a64bcf596d1"
      },
      "source": [
        "df.hist()"
      ],
      "execution_count": 183,
      "outputs": [
        {
          "output_type": "execute_result",
          "data": {
            "text/plain": [
              "array([[<matplotlib.axes._subplots.AxesSubplot object at 0x7ff02ceb8518>,\n",
              "        <matplotlib.axes._subplots.AxesSubplot object at 0x7ff02ce65a58>],\n",
              "       [<matplotlib.axes._subplots.AxesSubplot object at 0x7ff02ce90cc0>,\n",
              "        <matplotlib.axes._subplots.AxesSubplot object at 0x7ff02ce42f28>]],\n",
              "      dtype=object)"
            ]
          },
          "metadata": {
            "tags": []
          },
          "execution_count": 183
        },
        {
          "output_type": "display_data",
          "data": {
            "image/png": "[encoded data removed]",
            "text/plain": [
              "<Figure size 432x288 with 4 Axes>"
            ]
          },
          "metadata": {
            "tags": [],
            "needs_background": "light"
          }
        }
      ]
    },
    {
      "cell_type": "code",
      "metadata": {
        "id": "AqmK4FHGxgdL",
        "colab_type": "code",
        "colab": {
          "base_uri": "https://localhost:8080/",
          "height": 584
        },
        "outputId": "43e95505-3be6-42e9-e77a-38de38a81d4c"
      },
      "source": [
        "sns.pairplot(df)"
      ],
      "execution_count": 184,
      "outputs": [
        {
          "output_type": "execute_result",
          "data": {
            "text/plain": [
              "<seaborn.axisgrid.PairGrid at 0x7ff02cf5c860>"
            ]
          },
          "metadata": {
            "tags": []
          },
          "execution_count": 184
        },
        {
          "output_type": "display_data",
          "data": {
            "image/png": "[encoded data removed]",
            "text/plain": [
              "<Figure size 540x540 with 12 Axes>"
            ]
          },
          "metadata": {
            "tags": [],
            "needs_background": "light"
          }
        }
      ]
    },
    {
      "cell_type": "code",
      "metadata": {
        "id": "2vAGqxPOxsVP",
        "colab_type": "code",
        "colab": {
          "base_uri": "https://localhost:8080/",
          "height": 584
        },
        "outputId": "49b0cc5f-3d7e-4d12-f063-bd9ae25fc901"
      },
      "source": [
        "sns.pairplot(df,hue=\"Racer_Horse\")"
      ],
      "execution_count": 185,
      "outputs": [
        {
          "output_type": "execute_result",
          "data": {
            "text/plain": [
              "<seaborn.axisgrid.PairGrid at 0x7ff02c941048>"
            ]
          },
          "metadata": {
            "tags": []
          },
          "execution_count": 185
        },
        {
          "output_type": "display_data",
          "data": {
            "image/png": "[encoded data removed]",
            "text/plain": [
              "<Figure size 610.5x540 with 12 Axes>"
            ]
          },
          "metadata": {
            "tags": [],
            "needs_background": "light"
          }
        }
      ]
    },
    {
      "cell_type": "code",
      "metadata": {
        "id": "Mb7RVzZXyVQ9",
        "colab_type": "code",
        "colab": {
          "base_uri": "https://localhost:8080/",
          "height": 297
        },
        "outputId": "22d53e58-1977-4e28-e2d6-1af9d5fc7d5e"
      },
      "source": [
        "sns.boxplot(x=\"Horse_Height(cm)\", y=\"Racer_Horse\",data=df)"
      ],
      "execution_count": 188,
      "outputs": [
        {
          "output_type": "execute_result",
          "data": {
            "text/plain": [
              "<matplotlib.axes._subplots.AxesSubplot at 0x7ff02c4ddc88>"
            ]
          },
          "metadata": {
            "tags": []
          },
          "execution_count": 188
        },
        {
          "output_type": "display_data",
          "data": {
            "image/png": "[encoded data removed]",
            "text/plain": [
              "<Figure size 432x288 with 1 Axes>"
            ]
          },
          "metadata": {
            "tags": [],
            "needs_background": "light"
          }
        }
      ]
    },
    {
      "cell_type": "code",
      "metadata": {
        "id": "7K-didssTDOf",
        "colab_type": "code",
        "colab": {
          "base_uri": "https://localhost:8080/",
          "height": 297
        },
        "outputId": "31b2d2ad-f223-423b-d523-3f5d1b1961bb"
      },
      "source": [
        "sns.boxplot(x=\"Horse_Height(cm)\", y=\"Horse_Gender\",data=df)"
      ],
      "execution_count": 189,
      "outputs": [
        {
          "output_type": "execute_result",
          "data": {
            "text/plain": [
              "<matplotlib.axes._subplots.AxesSubplot at 0x7ff02c492eb8>"
            ]
          },
          "metadata": {
            "tags": []
          },
          "execution_count": 189
        },
        {
          "output_type": "display_data",
          "data": {
            "image/png": "[encoded data removed]",
            "text/plain": [
              "<Figure size 432x288 with 1 Axes>"
            ]
          },
          "metadata": {
            "tags": [],
            "needs_background": "light"
          }
        }
      ]
    },
    {
      "cell_type": "code",
      "metadata": {
        "id": "tZaDqfp9z_Ta",
        "colab_type": "code",
        "colab": {
          "base_uri": "https://localhost:8080/",
          "height": 297
        },
        "outputId": "f645b4a8-6473-4a92-eac1-616d17e41f88"
      },
      "source": [
        "sns.violinplot(x=\"Horse_Height(cm)\",y=\"Racer_Horse\",data=df)"
      ],
      "execution_count": 65,
      "outputs": [
        {
          "output_type": "execute_result",
          "data": {
            "text/plain": [
              "<matplotlib.axes._subplots.AxesSubplot at 0x7ff02da0b710>"
            ]
          },
          "metadata": {
            "tags": []
          },
          "execution_count": 65
        },
        {
          "output_type": "display_data",
          "data": {
            "image/png": "[encoded data removed]",
            "text/plain": [
              "<Figure size 432x288 with 1 Axes>"
            ]
          },
          "metadata": {
            "tags": [],
            "needs_background": "light"
          }
        }
      ]
    },
    {
      "cell_type": "code",
      "metadata": {
        "id": "vv0h_3bN8qpl",
        "colab_type": "code",
        "colab": {
          "base_uri": "https://localhost:8080/",
          "height": 297
        },
        "outputId": "75613f5e-b341-4f76-fb70-b857e40dfadc"
      },
      "source": [
        "sns.violinplot(x=\"Horse_Height(cm)\",y=\"Racer_Horse\",data=df, inner=\"quartile\")"
      ],
      "execution_count": 66,
      "outputs": [
        {
          "output_type": "execute_result",
          "data": {
            "text/plain": [
              "<matplotlib.axes._subplots.AxesSubplot at 0x7ff02d978828>"
            ]
          },
          "metadata": {
            "tags": []
          },
          "execution_count": 66
        },
        {
          "output_type": "display_data",
          "data": {
            "image/png": "[encoded data removed]",
            "text/plain": [
              "<Figure size 432x288 with 1 Axes>"
            ]
          },
          "metadata": {
            "tags": [],
            "needs_background": "light"
          }
        }
      ]
    }
  ]
}